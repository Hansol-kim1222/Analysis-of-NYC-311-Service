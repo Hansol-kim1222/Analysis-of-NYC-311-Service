{
 "cells": [
  {
   "cell_type": "code",
   "execution_count": 1,
   "metadata": {},
   "outputs": [],
   "source": [
    "import pandas as pd\n",
    "import numpy as np\n",
    "from matplotlib import pyplot as plt\n",
    "import seaborn as sns \n",
    "#plt.style.use('ggplot')\n",
    "import plotly.express as px\n",
    "import plotly.graph_objects as go"
   ]
  },
  {
   "cell_type": "code",
   "execution_count": null,
   "metadata": {},
   "outputs": [
    {
     "name": "stderr",
     "output_type": "stream",
     "text": [
      "C:\\Users\\Hanso\\anaconda3\\lib\\site-packages\\IPython\\core\\interactiveshell.py:3146: DtypeWarning: Columns (8,20,31,32,34,35,36,37) have mixed types.Specify dtype option on import or set low_memory=False.\n",
      "  has_raised = await self.run_ast_nodes(code_ast.body, cell_name,\n"
     ]
    }
   ],
   "source": [
    "sr_noise_data = pd.read_csv('311_Service_Requests_from_2019_to_Present.csv')"
   ]
  },
  {
   "cell_type": "code",
   "execution_count": null,
   "metadata": {},
   "outputs": [],
   "source": [
    "df = sr_noise_data[[\"Year_month_created\",\"Month_Count_All\"]].drop_duplicates()\n",
    "df[\"Percent of Total Complaints\"] = round((df[\"Month_Count_All\"]/(1664108))*100,2)\n",
    "#df"
   ]
  },
  {
   "cell_type": "code",
   "execution_count": null,
   "metadata": {},
   "outputs": [],
   "source": [
    "sr_noise_data['Ratio_Complaint_Type_Monthly'] = \\\n",
    "                     round(sr_noise_data['Month_Count_Complaint_Type'] / sr_noise_data['Month_Count_All']*100,2)"
   ]
  },
  {
   "cell_type": "code",
   "execution_count": null,
   "metadata": {},
   "outputs": [],
   "source": [
    "df = sr_noise_data[['Year_month_created','Noise Complaint Type','Ratio_Complaint_Type_Monthly']]\n",
    "\n",
    "plt.figure(figsize=(16, 10))\n",
    "sns.lineplot(data = df, \n",
    "             x='Year_month_created', \n",
    "             y='Ratio_Complaint_Type_Monthly', \n",
    "             hue='Noise Complaint Type', \n",
    "             palette =\"tab10\")\n",
    "\n",
    "plt.xlabel(\"Date Created\",fontsize=18)\n",
    "plt.xticks(rotation=45)\n",
    "plt.ylabel(\"Percent of Total Complaints Created\",fontsize=18)\n",
    "plt.title(\"Percent of Complaints Created By Type\",fontsize=18)\n",
    "plt.rcParams.update({'font.size': 12})\n",
    "plt.legend(bbox_to_anchor=(1.02, 1), loc='upper left', borderaxespad=0)\n",
    "plt.show()\n",
    "plt.savefig('Percent_by_type.png', format='png', dpi=1200, bbox_inches='tight')"
   ]
  },
  {
   "cell_type": "code",
   "execution_count": null,
   "metadata": {},
   "outputs": [],
   "source": []
  }
 ],
 "metadata": {
  "kernelspec": {
   "display_name": "Python 3",
   "language": "python",
   "name": "python3"
  },
  "language_info": {
   "codemirror_mode": {
    "name": "ipython",
    "version": 3
   },
   "file_extension": ".py",
   "mimetype": "text/x-python",
   "name": "python",
   "nbconvert_exporter": "python",
   "pygments_lexer": "ipython3",
   "version": "3.8.5"
  }
 },
 "nbformat": 4,
 "nbformat_minor": 4
}
